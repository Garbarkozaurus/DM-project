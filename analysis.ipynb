{
 "cells": [
  {
   "cell_type": "code",
   "execution_count": 1,
   "metadata": {},
   "outputs": [],
   "source": [
    "import pandas as pd\n",
    "import numpy as np\n",
    "#from pandas_profiling import ProfileReport\n",
    "import matplotlib.pyplot as plt"
   ]
  },
  {
   "cell_type": "markdown",
   "metadata": {},
   "source": [
    "# Dataset loading and basic exploration"
   ]
  },
  {
   "cell_type": "code",
   "execution_count": 2,
   "metadata": {},
   "outputs": [
    {
     "data": {
      "text/plain": [
       "(3276, 10)"
      ]
     },
     "execution_count": 2,
     "metadata": {},
     "output_type": "execute_result"
    }
   ],
   "source": [
    "water = pd.read_csv(\"data/water_potability.csv\")\n",
    "water.shape"
   ]
  },
  {
   "cell_type": "code",
   "execution_count": 3,
   "metadata": {},
   "outputs": [
    {
     "data": {
      "text/html": [
       "<div>\n",
       "<style scoped>\n",
       "    .dataframe tbody tr th:only-of-type {\n",
       "        vertical-align: middle;\n",
       "    }\n",
       "\n",
       "    .dataframe tbody tr th {\n",
       "        vertical-align: top;\n",
       "    }\n",
       "\n",
       "    .dataframe thead th {\n",
       "        text-align: right;\n",
       "    }\n",
       "</style>\n",
       "<table border=\"1\" class=\"dataframe\">\n",
       "  <thead>\n",
       "    <tr style=\"text-align: right;\">\n",
       "      <th></th>\n",
       "      <th>ph</th>\n",
       "      <th>Hardness</th>\n",
       "      <th>Solids</th>\n",
       "      <th>Chloramines</th>\n",
       "      <th>Sulfate</th>\n",
       "      <th>Conductivity</th>\n",
       "      <th>Organic_carbon</th>\n",
       "      <th>Trihalomethanes</th>\n",
       "      <th>Turbidity</th>\n",
       "      <th>Potability</th>\n",
       "    </tr>\n",
       "  </thead>\n",
       "  <tbody>\n",
       "    <tr>\n",
       "      <th>0</th>\n",
       "      <td>NaN</td>\n",
       "      <td>204.890455</td>\n",
       "      <td>20791.318981</td>\n",
       "      <td>7.300212</td>\n",
       "      <td>368.516441</td>\n",
       "      <td>564.308654</td>\n",
       "      <td>10.379783</td>\n",
       "      <td>86.990970</td>\n",
       "      <td>2.963135</td>\n",
       "      <td>0</td>\n",
       "    </tr>\n",
       "    <tr>\n",
       "      <th>1</th>\n",
       "      <td>3.716080</td>\n",
       "      <td>129.422921</td>\n",
       "      <td>18630.057858</td>\n",
       "      <td>6.635246</td>\n",
       "      <td>NaN</td>\n",
       "      <td>592.885359</td>\n",
       "      <td>15.180013</td>\n",
       "      <td>56.329076</td>\n",
       "      <td>4.500656</td>\n",
       "      <td>0</td>\n",
       "    </tr>\n",
       "    <tr>\n",
       "      <th>2</th>\n",
       "      <td>8.099124</td>\n",
       "      <td>224.236259</td>\n",
       "      <td>19909.541732</td>\n",
       "      <td>9.275884</td>\n",
       "      <td>NaN</td>\n",
       "      <td>418.606213</td>\n",
       "      <td>16.868637</td>\n",
       "      <td>66.420093</td>\n",
       "      <td>3.055934</td>\n",
       "      <td>0</td>\n",
       "    </tr>\n",
       "    <tr>\n",
       "      <th>3</th>\n",
       "      <td>8.316766</td>\n",
       "      <td>214.373394</td>\n",
       "      <td>22018.417441</td>\n",
       "      <td>8.059332</td>\n",
       "      <td>356.886136</td>\n",
       "      <td>363.266516</td>\n",
       "      <td>18.436524</td>\n",
       "      <td>100.341674</td>\n",
       "      <td>4.628771</td>\n",
       "      <td>0</td>\n",
       "    </tr>\n",
       "    <tr>\n",
       "      <th>4</th>\n",
       "      <td>9.092223</td>\n",
       "      <td>181.101509</td>\n",
       "      <td>17978.986339</td>\n",
       "      <td>6.546600</td>\n",
       "      <td>310.135738</td>\n",
       "      <td>398.410813</td>\n",
       "      <td>11.558279</td>\n",
       "      <td>31.997993</td>\n",
       "      <td>4.075075</td>\n",
       "      <td>0</td>\n",
       "    </tr>\n",
       "  </tbody>\n",
       "</table>\n",
       "</div>"
      ],
      "text/plain": [
       "         ph    Hardness        Solids  Chloramines     Sulfate  Conductivity  \\\n",
       "0       NaN  204.890455  20791.318981     7.300212  368.516441    564.308654   \n",
       "1  3.716080  129.422921  18630.057858     6.635246         NaN    592.885359   \n",
       "2  8.099124  224.236259  19909.541732     9.275884         NaN    418.606213   \n",
       "3  8.316766  214.373394  22018.417441     8.059332  356.886136    363.266516   \n",
       "4  9.092223  181.101509  17978.986339     6.546600  310.135738    398.410813   \n",
       "\n",
       "   Organic_carbon  Trihalomethanes  Turbidity  Potability  \n",
       "0       10.379783        86.990970   2.963135           0  \n",
       "1       15.180013        56.329076   4.500656           0  \n",
       "2       16.868637        66.420093   3.055934           0  \n",
       "3       18.436524       100.341674   4.628771           0  \n",
       "4       11.558279        31.997993   4.075075           0  "
      ]
     },
     "execution_count": 3,
     "metadata": {},
     "output_type": "execute_result"
    }
   ],
   "source": [
    "water.head()\n"
   ]
  },
  {
   "cell_type": "code",
   "execution_count": 4,
   "metadata": {},
   "outputs": [
    {
     "data": {
      "text/html": [
       "<div>\n",
       "<style scoped>\n",
       "    .dataframe tbody tr th:only-of-type {\n",
       "        vertical-align: middle;\n",
       "    }\n",
       "\n",
       "    .dataframe tbody tr th {\n",
       "        vertical-align: top;\n",
       "    }\n",
       "\n",
       "    .dataframe thead th {\n",
       "        text-align: right;\n",
       "    }\n",
       "</style>\n",
       "<table border=\"1\" class=\"dataframe\">\n",
       "  <thead>\n",
       "    <tr style=\"text-align: right;\">\n",
       "      <th></th>\n",
       "      <th>ph</th>\n",
       "      <th>Hardness</th>\n",
       "      <th>Solids</th>\n",
       "      <th>Chloramines</th>\n",
       "      <th>Sulfate</th>\n",
       "      <th>Conductivity</th>\n",
       "      <th>Organic_carbon</th>\n",
       "      <th>Trihalomethanes</th>\n",
       "      <th>Turbidity</th>\n",
       "      <th>Potability</th>\n",
       "    </tr>\n",
       "  </thead>\n",
       "  <tbody>\n",
       "    <tr>\n",
       "      <th>count</th>\n",
       "      <td>2785.000000</td>\n",
       "      <td>3276.000000</td>\n",
       "      <td>3276.000000</td>\n",
       "      <td>3276.000000</td>\n",
       "      <td>2495.000000</td>\n",
       "      <td>3276.000000</td>\n",
       "      <td>3276.000000</td>\n",
       "      <td>3114.000000</td>\n",
       "      <td>3276.000000</td>\n",
       "      <td>3276.000000</td>\n",
       "    </tr>\n",
       "    <tr>\n",
       "      <th>mean</th>\n",
       "      <td>7.080795</td>\n",
       "      <td>196.369496</td>\n",
       "      <td>22014.092526</td>\n",
       "      <td>7.122277</td>\n",
       "      <td>333.775777</td>\n",
       "      <td>426.205111</td>\n",
       "      <td>14.284970</td>\n",
       "      <td>66.396293</td>\n",
       "      <td>3.966786</td>\n",
       "      <td>0.390110</td>\n",
       "    </tr>\n",
       "    <tr>\n",
       "      <th>std</th>\n",
       "      <td>1.594320</td>\n",
       "      <td>32.879761</td>\n",
       "      <td>8768.570828</td>\n",
       "      <td>1.583085</td>\n",
       "      <td>41.416840</td>\n",
       "      <td>80.824064</td>\n",
       "      <td>3.308162</td>\n",
       "      <td>16.175008</td>\n",
       "      <td>0.780382</td>\n",
       "      <td>0.487849</td>\n",
       "    </tr>\n",
       "    <tr>\n",
       "      <th>min</th>\n",
       "      <td>0.000000</td>\n",
       "      <td>47.432000</td>\n",
       "      <td>320.942611</td>\n",
       "      <td>0.352000</td>\n",
       "      <td>129.000000</td>\n",
       "      <td>181.483754</td>\n",
       "      <td>2.200000</td>\n",
       "      <td>0.738000</td>\n",
       "      <td>1.450000</td>\n",
       "      <td>0.000000</td>\n",
       "    </tr>\n",
       "    <tr>\n",
       "      <th>25%</th>\n",
       "      <td>6.093092</td>\n",
       "      <td>176.850538</td>\n",
       "      <td>15666.690297</td>\n",
       "      <td>6.127421</td>\n",
       "      <td>307.699498</td>\n",
       "      <td>365.734414</td>\n",
       "      <td>12.065801</td>\n",
       "      <td>55.844536</td>\n",
       "      <td>3.439711</td>\n",
       "      <td>0.000000</td>\n",
       "    </tr>\n",
       "    <tr>\n",
       "      <th>50%</th>\n",
       "      <td>7.036752</td>\n",
       "      <td>196.967627</td>\n",
       "      <td>20927.833607</td>\n",
       "      <td>7.130299</td>\n",
       "      <td>333.073546</td>\n",
       "      <td>421.884968</td>\n",
       "      <td>14.218338</td>\n",
       "      <td>66.622485</td>\n",
       "      <td>3.955028</td>\n",
       "      <td>0.000000</td>\n",
       "    </tr>\n",
       "    <tr>\n",
       "      <th>75%</th>\n",
       "      <td>8.062066</td>\n",
       "      <td>216.667456</td>\n",
       "      <td>27332.762127</td>\n",
       "      <td>8.114887</td>\n",
       "      <td>359.950170</td>\n",
       "      <td>481.792304</td>\n",
       "      <td>16.557652</td>\n",
       "      <td>77.337473</td>\n",
       "      <td>4.500320</td>\n",
       "      <td>1.000000</td>\n",
       "    </tr>\n",
       "    <tr>\n",
       "      <th>max</th>\n",
       "      <td>14.000000</td>\n",
       "      <td>323.124000</td>\n",
       "      <td>61227.196008</td>\n",
       "      <td>13.127000</td>\n",
       "      <td>481.030642</td>\n",
       "      <td>753.342620</td>\n",
       "      <td>28.300000</td>\n",
       "      <td>124.000000</td>\n",
       "      <td>6.739000</td>\n",
       "      <td>1.000000</td>\n",
       "    </tr>\n",
       "  </tbody>\n",
       "</table>\n",
       "</div>"
      ],
      "text/plain": [
       "                ph     Hardness        Solids  Chloramines      Sulfate  \\\n",
       "count  2785.000000  3276.000000   3276.000000  3276.000000  2495.000000   \n",
       "mean      7.080795   196.369496  22014.092526     7.122277   333.775777   \n",
       "std       1.594320    32.879761   8768.570828     1.583085    41.416840   \n",
       "min       0.000000    47.432000    320.942611     0.352000   129.000000   \n",
       "25%       6.093092   176.850538  15666.690297     6.127421   307.699498   \n",
       "50%       7.036752   196.967627  20927.833607     7.130299   333.073546   \n",
       "75%       8.062066   216.667456  27332.762127     8.114887   359.950170   \n",
       "max      14.000000   323.124000  61227.196008    13.127000   481.030642   \n",
       "\n",
       "       Conductivity  Organic_carbon  Trihalomethanes    Turbidity   Potability  \n",
       "count   3276.000000     3276.000000      3114.000000  3276.000000  3276.000000  \n",
       "mean     426.205111       14.284970        66.396293     3.966786     0.390110  \n",
       "std       80.824064        3.308162        16.175008     0.780382     0.487849  \n",
       "min      181.483754        2.200000         0.738000     1.450000     0.000000  \n",
       "25%      365.734414       12.065801        55.844536     3.439711     0.000000  \n",
       "50%      421.884968       14.218338        66.622485     3.955028     0.000000  \n",
       "75%      481.792304       16.557652        77.337473     4.500320     1.000000  \n",
       "max      753.342620       28.300000       124.000000     6.739000     1.000000  "
      ]
     },
     "execution_count": 4,
     "metadata": {},
     "output_type": "execute_result"
    }
   ],
   "source": [
    "water.describe()"
   ]
  },
  {
   "cell_type": "markdown",
   "metadata": {},
   "source": [
    "## Finding the two most correlated attributes"
   ]
  },
  {
   "cell_type": "code",
   "execution_count": 5,
   "metadata": {},
   "outputs": [
    {
     "name": "stdout",
     "output_type": "stream",
     "text": [
      "ph Solids -0.08928825011982429\n",
      "Hardness Sulfate -0.10692345399851362\n",
      "Solids Sulfate -0.17180427470199292\n",
      "Chloramines Solids -0.07014757983260811\n",
      "Sulfate Solids -0.17180427470199292\n",
      "Conductivity Hardness -0.023914599662821827\n",
      "Organic_carbon ph 0.04350334128238972\n",
      "Trihalomethanes Sulfate -0.03027406187757645\n",
      "Turbidity ph -0.03905666613664019\n",
      "Potability Solids 0.03374331339365026\n"
     ]
    }
   ],
   "source": [
    "most_correlated_attr = \"attribute_name_here\"\n",
    "correlation_matrix = water.corr()\n",
    "for attr in correlation_matrix:\n",
    "    max_corr = 0\n",
    "    idx = 0\n",
    "    for value in correlation_matrix[attr]:\n",
    "        if value != 1 and abs(value) > abs(max_corr):\n",
    "            max_corr = value\n",
    "            # get the name of the most correlated attribute\n",
    "            most_correlated_attr = list(water.columns)[idx]\n",
    "        idx+=1\n",
    "    print(attr, most_correlated_attr, max_corr)"
   ]
  },
  {
   "cell_type": "code",
   "execution_count": 6,
   "metadata": {},
   "outputs": [],
   "source": [
    "# long computation\n",
    "#water_profile = ProfileReport(df=water, title=\"Analysis of the water dataframe\", explorative=True)\n",
    "#water_profile"
   ]
  },
  {
   "cell_type": "markdown",
   "metadata": {},
   "source": [
    "## Missing values"
   ]
  },
  {
   "cell_type": "code",
   "execution_count": 7,
   "metadata": {},
   "outputs": [
    {
     "data": {
      "text/html": [
       "<div>\n",
       "<style scoped>\n",
       "    .dataframe tbody tr th:only-of-type {\n",
       "        vertical-align: middle;\n",
       "    }\n",
       "\n",
       "    .dataframe tbody tr th {\n",
       "        vertical-align: top;\n",
       "    }\n",
       "\n",
       "    .dataframe thead th {\n",
       "        text-align: right;\n",
       "    }\n",
       "</style>\n",
       "<table border=\"1\" class=\"dataframe\">\n",
       "  <thead>\n",
       "    <tr style=\"text-align: right;\">\n",
       "      <th></th>\n",
       "      <th>ph</th>\n",
       "      <th>Hardness</th>\n",
       "      <th>Solids</th>\n",
       "      <th>Chloramines</th>\n",
       "      <th>Sulfate</th>\n",
       "      <th>Conductivity</th>\n",
       "      <th>Organic_carbon</th>\n",
       "      <th>Trihalomethanes</th>\n",
       "      <th>Turbidity</th>\n",
       "      <th>Potability</th>\n",
       "    </tr>\n",
       "  </thead>\n",
       "  <tbody>\n",
       "    <tr>\n",
       "      <th>0</th>\n",
       "      <td>NaN</td>\n",
       "      <td>204.890455</td>\n",
       "      <td>20791.318981</td>\n",
       "      <td>7.300212</td>\n",
       "      <td>368.516441</td>\n",
       "      <td>564.308654</td>\n",
       "      <td>10.379783</td>\n",
       "      <td>86.990970</td>\n",
       "      <td>2.963135</td>\n",
       "      <td>0</td>\n",
       "    </tr>\n",
       "    <tr>\n",
       "      <th>8</th>\n",
       "      <td>NaN</td>\n",
       "      <td>118.988579</td>\n",
       "      <td>14285.583854</td>\n",
       "      <td>7.804174</td>\n",
       "      <td>268.646941</td>\n",
       "      <td>389.375566</td>\n",
       "      <td>12.706049</td>\n",
       "      <td>53.928846</td>\n",
       "      <td>3.595017</td>\n",
       "      <td>0</td>\n",
       "    </tr>\n",
       "    <tr>\n",
       "      <th>13</th>\n",
       "      <td>NaN</td>\n",
       "      <td>150.174923</td>\n",
       "      <td>27331.361962</td>\n",
       "      <td>6.838223</td>\n",
       "      <td>299.415781</td>\n",
       "      <td>379.761835</td>\n",
       "      <td>19.370807</td>\n",
       "      <td>76.509996</td>\n",
       "      <td>4.413974</td>\n",
       "      <td>0</td>\n",
       "    </tr>\n",
       "    <tr>\n",
       "      <th>20</th>\n",
       "      <td>NaN</td>\n",
       "      <td>227.435048</td>\n",
       "      <td>22305.567414</td>\n",
       "      <td>10.333918</td>\n",
       "      <td>NaN</td>\n",
       "      <td>554.820086</td>\n",
       "      <td>16.331693</td>\n",
       "      <td>45.382815</td>\n",
       "      <td>4.133423</td>\n",
       "      <td>0</td>\n",
       "    </tr>\n",
       "    <tr>\n",
       "      <th>22</th>\n",
       "      <td>NaN</td>\n",
       "      <td>215.977859</td>\n",
       "      <td>17107.224226</td>\n",
       "      <td>5.607060</td>\n",
       "      <td>326.943978</td>\n",
       "      <td>436.256194</td>\n",
       "      <td>14.189062</td>\n",
       "      <td>59.855476</td>\n",
       "      <td>5.459251</td>\n",
       "      <td>0</td>\n",
       "    </tr>\n",
       "    <tr>\n",
       "      <th>...</th>\n",
       "      <td>...</td>\n",
       "      <td>...</td>\n",
       "      <td>...</td>\n",
       "      <td>...</td>\n",
       "      <td>...</td>\n",
       "      <td>...</td>\n",
       "      <td>...</td>\n",
       "      <td>...</td>\n",
       "      <td>...</td>\n",
       "      <td>...</td>\n",
       "    </tr>\n",
       "    <tr>\n",
       "      <th>3224</th>\n",
       "      <td>NaN</td>\n",
       "      <td>198.218700</td>\n",
       "      <td>31081.735264</td>\n",
       "      <td>7.419106</td>\n",
       "      <td>NaN</td>\n",
       "      <td>517.925946</td>\n",
       "      <td>11.711419</td>\n",
       "      <td>85.428785</td>\n",
       "      <td>3.345543</td>\n",
       "      <td>1</td>\n",
       "    </tr>\n",
       "    <tr>\n",
       "      <th>3229</th>\n",
       "      <td>NaN</td>\n",
       "      <td>203.204659</td>\n",
       "      <td>10643.186771</td>\n",
       "      <td>6.828936</td>\n",
       "      <td>NaN</td>\n",
       "      <td>384.597711</td>\n",
       "      <td>16.011328</td>\n",
       "      <td>72.911573</td>\n",
       "      <td>3.065910</td>\n",
       "      <td>1</td>\n",
       "    </tr>\n",
       "    <tr>\n",
       "      <th>3231</th>\n",
       "      <td>NaN</td>\n",
       "      <td>225.754109</td>\n",
       "      <td>28194.452646</td>\n",
       "      <td>5.892830</td>\n",
       "      <td>366.201583</td>\n",
       "      <td>418.272901</td>\n",
       "      <td>17.306832</td>\n",
       "      <td>103.912548</td>\n",
       "      <td>3.855895</td>\n",
       "      <td>1</td>\n",
       "    </tr>\n",
       "    <tr>\n",
       "      <th>3245</th>\n",
       "      <td>NaN</td>\n",
       "      <td>188.536608</td>\n",
       "      <td>24711.414927</td>\n",
       "      <td>7.129520</td>\n",
       "      <td>NaN</td>\n",
       "      <td>555.548534</td>\n",
       "      <td>16.959269</td>\n",
       "      <td>56.038702</td>\n",
       "      <td>4.331691</td>\n",
       "      <td>1</td>\n",
       "    </tr>\n",
       "    <tr>\n",
       "      <th>3260</th>\n",
       "      <td>NaN</td>\n",
       "      <td>134.736856</td>\n",
       "      <td>9000.025591</td>\n",
       "      <td>9.026293</td>\n",
       "      <td>NaN</td>\n",
       "      <td>428.213987</td>\n",
       "      <td>8.668672</td>\n",
       "      <td>74.773392</td>\n",
       "      <td>3.699558</td>\n",
       "      <td>1</td>\n",
       "    </tr>\n",
       "  </tbody>\n",
       "</table>\n",
       "<p>491 rows × 10 columns</p>\n",
       "</div>"
      ],
      "text/plain": [
       "      ph    Hardness        Solids  Chloramines     Sulfate  Conductivity  \\\n",
       "0    NaN  204.890455  20791.318981     7.300212  368.516441    564.308654   \n",
       "8    NaN  118.988579  14285.583854     7.804174  268.646941    389.375566   \n",
       "13   NaN  150.174923  27331.361962     6.838223  299.415781    379.761835   \n",
       "20   NaN  227.435048  22305.567414    10.333918         NaN    554.820086   \n",
       "22   NaN  215.977859  17107.224226     5.607060  326.943978    436.256194   \n",
       "...   ..         ...           ...          ...         ...           ...   \n",
       "3224 NaN  198.218700  31081.735264     7.419106         NaN    517.925946   \n",
       "3229 NaN  203.204659  10643.186771     6.828936         NaN    384.597711   \n",
       "3231 NaN  225.754109  28194.452646     5.892830  366.201583    418.272901   \n",
       "3245 NaN  188.536608  24711.414927     7.129520         NaN    555.548534   \n",
       "3260 NaN  134.736856   9000.025591     9.026293         NaN    428.213987   \n",
       "\n",
       "      Organic_carbon  Trihalomethanes  Turbidity  Potability  \n",
       "0          10.379783        86.990970   2.963135           0  \n",
       "8          12.706049        53.928846   3.595017           0  \n",
       "13         19.370807        76.509996   4.413974           0  \n",
       "20         16.331693        45.382815   4.133423           0  \n",
       "22         14.189062        59.855476   5.459251           0  \n",
       "...              ...              ...        ...         ...  \n",
       "3224       11.711419        85.428785   3.345543           1  \n",
       "3229       16.011328        72.911573   3.065910           1  \n",
       "3231       17.306832       103.912548   3.855895           1  \n",
       "3245       16.959269        56.038702   4.331691           1  \n",
       "3260        8.668672        74.773392   3.699558           1  \n",
       "\n",
       "[491 rows x 10 columns]"
      ]
     },
     "execution_count": 7,
     "metadata": {},
     "output_type": "execute_result"
    }
   ],
   "source": [
    "water[water.ph.isna()]"
   ]
  },
  {
   "cell_type": "markdown",
   "metadata": {},
   "source": [
    "# Dimensionality reduction"
   ]
  },
  {
   "cell_type": "markdown",
   "metadata": {},
   "source": [
    "PCA can't handle missing values, so they must be removed"
   ]
  },
  {
   "cell_type": "code",
   "execution_count": 8,
   "metadata": {},
   "outputs": [],
   "source": [
    "# removes all rows that have any missing values\n",
    "water_no_missing = water.dropna(axis=0)"
   ]
  },
  {
   "cell_type": "markdown",
   "metadata": {},
   "source": [
    "## Standardise the data"
   ]
  },
  {
   "cell_type": "code",
   "execution_count": 9,
   "metadata": {},
   "outputs": [],
   "source": [
    "from sklearn.preprocessing import StandardScaler\n",
    "\n",
    "potability = water_no_missing[\"Potability\"]\n",
    "water_data_no_missing = water_no_missing.drop([\"Potability\"], axis=1)\n",
    "water_data_standardised = StandardScaler().fit(water_data_no_missing).transform(water_data_no_missing)"
   ]
  },
  {
   "cell_type": "code",
   "execution_count": 10,
   "metadata": {},
   "outputs": [
    {
     "data": {
      "text/plain": [
       "array([[ 0.7824658 ,  0.56411376,  0.01168692,  0.5838039 ,  0.57437811,\n",
       "        -0.78396246,  1.22703167,  2.11165179,  0.84476056],\n",
       "       [ 1.27546291, -0.45565257, -0.45583491, -0.37094728, -0.56048006,\n",
       "        -0.34842885, -0.84215371, -2.14039865,  0.13503344],\n",
       "       [-0.95483488, -0.23461412,  0.7906452 ,  0.25910357, -0.15891057,\n",
       "        -1.81006276, -1.79234008, -0.7144228 , -1.80736621]])"
      ]
     },
     "execution_count": 10,
     "metadata": {},
     "output_type": "execute_result"
    }
   ],
   "source": [
    "water_data_standardised[:3]"
   ]
  },
  {
   "cell_type": "code",
   "execution_count": 11,
   "metadata": {},
   "outputs": [
    {
     "data": {
      "text/plain": [
       "array([[-0.89277496, -0.12034861],\n",
       "       [-0.25428385, -0.28366897],\n",
       "       [ 1.05212008,  0.52176466]])"
      ]
     },
     "execution_count": 11,
     "metadata": {},
     "output_type": "execute_result"
    }
   ],
   "source": [
    "from sklearn.decomposition import PCA\n",
    "\n",
    "pca = PCA(n_components=2)\n",
    "\n",
    "water_pca = pca.fit(water_data_standardised).transform(water_data_standardised)\n",
    "water_pca[:3]"
   ]
  },
  {
   "cell_type": "code",
   "execution_count": 12,
   "metadata": {},
   "outputs": [
    {
     "name": "stdout",
     "output_type": "stream",
     "text": [
      "Variance explained by component 1: 0.13410811827499855\n",
      "Variance explained by component 2: 0.13005307932987778\n"
     ]
    },
    {
     "data": {
      "text/plain": [
       "20110"
      ]
     },
     "execution_count": 12,
     "metadata": {},
     "output_type": "execute_result"
    }
   ],
   "source": [
    "for i,v in enumerate(pca.explained_variance_ratio_):\n",
    "    print(\"Variance explained by component \", i+1, \": \", v, sep=\"\")\n",
    "water_no_missing.size"
   ]
  },
  {
   "cell_type": "code",
   "execution_count": 13,
   "metadata": {},
   "outputs": [
    {
     "data": {
      "text/plain": [
       "<matplotlib.collections.PathCollection at 0x260772ff730>"
      ]
     },
     "execution_count": 13,
     "metadata": {},
     "output_type": "execute_result"
    },
    {
     "data": {
      "image/png": "[encoded data removed]",
      "text/plain": [
       "<Figure size 432x432 with 1 Axes>"
      ]
     },
     "metadata": {
      "needs_background": "light"
     },
     "output_type": "display_data"
    }
   ],
   "source": [
    "fig = plt.figure(figsize=(6, 6))\n",
    "ax = fig.add_subplot(1, 1, 1)\n",
    "\n",
    "ax.set_title('PCA 2D', fontsize=20)\n",
    "ax.set_xlabel('Principal component 1', fontsize=15)\n",
    "ax.set_ylabel('Principal component 2', fontsize=15)\n",
    "ax.grid()\n",
    "\n",
    "ax.scatter(water_pca[:, 0], water_pca[:, 1], c=np.array([\"orange\", \"blue\"])[potability], s=25)"
   ]
  },
  {
   "cell_type": "code",
   "execution_count": 14,
   "metadata": {},
   "outputs": [
    {
     "name": "stdout",
     "output_type": "stream",
     "text": [
      "Index(['ph', 'Hardness', 'Solids', 'Chloramines', 'Sulfate', 'Conductivity',\n",
      "       'Organic_carbon', 'Trihalomethanes', 'Turbidity', 'Potability'],\n",
      "      dtype='object')\n"
     ]
    },
    {
     "data": {
      "text/plain": [
       "array([[-0.47404071, -0.21606914,  0.66225649, -0.06779952, -0.45863379,\n",
       "        -0.01664511, -0.16382524, -0.04620069,  0.21406511],\n",
       "       [-0.38863879, -0.62587007, -0.16821895,  0.2597866 ,  0.54146414,\n",
       "        -0.16084655, -0.08868279, -0.04434396,  0.18048214]])"
      ]
     },
     "execution_count": 14,
     "metadata": {},
     "output_type": "execute_result"
    }
   ],
   "source": [
    "print(water_no_missing.columns)\n",
    "pca.components_"
   ]
  },
  {
   "cell_type": "code",
   "execution_count": null,
   "metadata": {},
   "outputs": [
    {
     "data": {
      "application/vnd.jupyter.widget-view+json": {
       "model_id": "168fb675d8814a79bfe5cc96714db19c",
       "version_major": 2,
       "version_minor": 0
      },
      "text/plain": [
       "  0%|          | 0/5 [00:00<?, ?it/s]"
      ]
     },
     "metadata": {},
     "output_type": "display_data"
    }
   ],
   "source": [
    "#depends on `water_data_standardised`\n",
    "\n",
    "# K-means analysis\n",
    "from sklearn.metrics import silhouette_score\n",
    "from sklearn.cluster import KMeans\n",
    "from tqdm.notebook import tqdm\n",
    "\n",
    "def avg(A):\n",
    "    return sum(A)/len(A)\n",
    "\n",
    "#initial data and parameters\n",
    "X = water_data_standardised\n",
    "max_k = 30\n",
    "rep = 5\n",
    "\n",
    "k_range = range(2, max_k + 1)\n",
    "scores = []\n",
    "scores_table_rep = []\n",
    "\n",
    "#repeat rep times\n",
    "for i in tqdm(range(rep)):\n",
    "    scores = []\n",
    "    #k-means\n",
    "    for k in k_range:\n",
    "        kmeans = KMeans(n_clusters=k)\n",
    "        labels = kmeans.fit_predict(X)\n",
    "        score = silhouette_score(X, labels, metric='euclidean')\n",
    "        scores.append((k, score))\n",
    "    scores_table_rep.append(scores)\n",
    "#avg of scores\n",
    "scores_final = [[]for i in range(rep)]\n",
    "scores = []\n",
    "\n",
    "for i in k_range:\n",
    "    avg_res = avg([scores_table_rep[k][i - 2][1] for k in range(rep)])\n",
    "    scores.append((i, avg_res))\n",
    "\n",
    "#plot\n",
    "ax_x, ax_y = zip(*scores)\n",
    "\n",
    "fig = plt.figure(figsize=(10,5))\n",
    "ax = plt.axes()\n",
    "plt.xticks(k_range)\n",
    "plt.grid()\n",
    "plt.title(\"Analysis of number of clusters\")\n",
    "plt.xlabel(\"Number of clusters\")\n",
    "plt.ylabel(\"Silhouette score\")\n",
    "plt.plot(ax_x, ax_y)"
   ]
  },
  {
   "cell_type": "code",
   "execution_count": 16,
   "metadata": {},
   "outputs": [
    {
     "data": {
      "application/vnd.jupyter.widget-view+json": {
       "model_id": "3684423ec6574a29a79c3b8e25edb36f",
       "version_major": 2,
       "version_minor": 0
      },
      "text/plain": [
       "  0%|          | 0/5 [00:00<?, ?it/s]"
      ]
     },
     "metadata": {},
     "output_type": "display_data"
    },
    {
     "data": {
      "text/plain": [
       "[<matplotlib.lines.Line2D at 0x26077a63a00>]"
      ]
     },
     "execution_count": 16,
     "metadata": {},
     "output_type": "execute_result"
    },
    {
     "data": {
      "image/png": "[encoded data removed]",
      "text/plain": [
       "<Figure size 720x360 with 1 Axes>"
      ]
     },
     "metadata": {
      "needs_background": "light"
     },
     "output_type": "display_data"
    }
   ],
   "source": [
    "#depends on `water_no_missing`\n",
    "\n",
    "import pandas as pd\n",
    "from sklearn.neighbors import KNeighborsClassifier\n",
    "from sklearn.model_selection import train_test_split\n",
    "from sklearn.preprocessing import OneHotEncoder\n",
    "from sklearn.compose import make_column_transformer\n",
    "from sklearn.metrics import accuracy_score\n",
    "from sklearn.preprocessing import MinMaxScaler\n",
    "from seaborn import load_dataset\n",
    "from sklearn import preprocessing\n",
    "from tqdm.notebook import tqdm\n",
    "\n",
    "def avg(A):\n",
    "    return sum(A)/len(A)\n",
    "\n",
    "#data\n",
    "water_data_no_missing = water_no_missing\n",
    "water_data_standardised = StandardScaler().fit(water_data_no_missing).transform(water_data_no_missing)\n",
    "water_data_standardised_df = pd.DataFrame(water_data_standardised)\n",
    "water_data_standardised_df.columns = water_no_missing.columns\n",
    "X = water_data_standardised_df.drop(columns = ['Potability'])\n",
    "y = water_data_standardised_df['Potability']\n",
    "\n",
    "#global parameters\n",
    "max_k = 35\n",
    "rep = 5\n",
    "\n",
    "scores = []\n",
    "scores_table_rep = []\n",
    "\n",
    "#repetition loop\n",
    "for i in tqdm(range(rep)):\n",
    "    scores = []\n",
    "    #loop of k-nn\n",
    "    for j in range(1, max_k + 1):\n",
    "        #divide data into training and test set\n",
    "        X_train, X_test, y_train, y_test = train_test_split(X, y)\n",
    "\n",
    "        #convert y values to categorical values\n",
    "        lab = preprocessing.LabelEncoder()\n",
    "        y_test = lab.fit_transform(y_test)\n",
    "        y_train = lab.fit_transform(y_train)\n",
    "\n",
    "        #k-nn\n",
    "        clf = KNeighborsClassifier(p=j)\n",
    "        clf.fit(X_train, y_train)\n",
    "        predictions = clf.predict(X_test)\n",
    "\n",
    "        scores.append((i, accuracy_score(y_test, predictions)))\n",
    "    scores_table_rep.append(scores)\n",
    "\n",
    "#avg of scores            \n",
    "scores_final = [[]for i in range(rep)]\n",
    "scores = []\n",
    "\n",
    "for i in range(1, max_k + 1):\n",
    "    avg_res = avg([scores_table_rep[k][i - 1][1] for k in range(rep)])\n",
    "    scores.append((i, avg_res))\n",
    "    \n",
    "#plot\n",
    "ax_x, ax_y = zip(*scores)\n",
    "        \n",
    "fig = plt.figure(figsize=(10,5))\n",
    "ax = plt.axes()\n",
    "plt.xticks(range(1, max_k + 1))\n",
    "plt.grid()\n",
    "plt.title(\"K nearest neighbours analysis\")\n",
    "plt.xlabel(\"Number of neighbours\")\n",
    "plt.ylabel(\"Accuracy\")\n",
    "plt.plot(ax_x, ax_y)"
   ]
  }
 ],
 "metadata": {
  "kernelspec": {
   "display_name": "Python 3 (ipykernel)",
   "language": "python",
   "name": "python3"
  },
  "language_info": {
   "codemirror_mode": {
    "name": "ipython",
    "version": 3
   },
   "file_extension": ".py",
   "mimetype": "text/x-python",
   "name": "python",
   "nbconvert_exporter": "python",
   "pygments_lexer": "ipython3",
   "version": "3.9.7"
  },
  "vscode": {
   "interpreter": {
    "hash": "881fdfd94a25aa10e20db5e566f8156148d1b2639d104ac555e2327d9e425f83"
   }
  }
 },
 "nbformat": 4,
 "nbformat_minor": 2
}
